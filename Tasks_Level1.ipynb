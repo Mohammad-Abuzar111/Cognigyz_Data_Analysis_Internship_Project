{
 "cells": [
  {
   "cell_type": "code",
   "execution_count": 1,
   "id": "72455904-6f02-425e-8f7b-99696da42bd8",
   "metadata": {},
   "outputs": [],
   "source": [
    "import pandas as pd\n",
    "import numpy as np\n",
    "import matplotlib.pyplot as plt\n",
    "import seaborn as sns \n"
   ]
  },
  {
   "cell_type": "code",
   "execution_count": 2,
   "id": "5721c3f8-7d4e-46c7-b85c-5c3e588a3b33",
   "metadata": {},
   "outputs": [],
   "source": [
    "#importing the files \n",
    "Restaurant_Data = pd.read_csv(\"C:/Users/Deeksha Salame/OneDrive/Desktop/RESOURCES/Cognifyz/Dataset .csv\")"
   ]
  },
  {
   "cell_type": "code",
   "execution_count": 3,
   "id": "369d7c32-5230-46cd-8c57-70ecf39aeacc",
   "metadata": {},
   "outputs": [
    {
     "name": "stdout",
     "output_type": "stream",
     "text": [
      "(9551, 21)\n",
      "Index(['Restaurant ID', 'Restaurant Name', 'Country Code', 'City', 'Address',\n",
      "       'Locality', 'Locality Verbose', 'Longitude', 'Latitude', 'Cuisines',\n",
      "       'Average Cost for two', 'Currency', 'Has Table booking',\n",
      "       'Has Online delivery', 'Is delivering now', 'Switch to order menu',\n",
      "       'Price range', 'Aggregate rating', 'Rating color', 'Rating text',\n",
      "       'Votes'],\n",
      "      dtype='object')\n"
     ]
    },
    {
     "data": {
      "text/html": [
       "<div>\n",
       "<style scoped>\n",
       "    .dataframe tbody tr th:only-of-type {\n",
       "        vertical-align: middle;\n",
       "    }\n",
       "\n",
       "    .dataframe tbody tr th {\n",
       "        vertical-align: top;\n",
       "    }\n",
       "\n",
       "    .dataframe thead th {\n",
       "        text-align: right;\n",
       "    }\n",
       "</style>\n",
       "<table border=\"1\" class=\"dataframe\">\n",
       "  <thead>\n",
       "    <tr style=\"text-align: right;\">\n",
       "      <th></th>\n",
       "      <th>Restaurant ID</th>\n",
       "      <th>Restaurant Name</th>\n",
       "      <th>Country Code</th>\n",
       "      <th>City</th>\n",
       "      <th>Address</th>\n",
       "      <th>Locality</th>\n",
       "      <th>Locality Verbose</th>\n",
       "      <th>Longitude</th>\n",
       "      <th>Latitude</th>\n",
       "      <th>Cuisines</th>\n",
       "      <th>...</th>\n",
       "      <th>Currency</th>\n",
       "      <th>Has Table booking</th>\n",
       "      <th>Has Online delivery</th>\n",
       "      <th>Is delivering now</th>\n",
       "      <th>Switch to order menu</th>\n",
       "      <th>Price range</th>\n",
       "      <th>Aggregate rating</th>\n",
       "      <th>Rating color</th>\n",
       "      <th>Rating text</th>\n",
       "      <th>Votes</th>\n",
       "    </tr>\n",
       "  </thead>\n",
       "  <tbody>\n",
       "    <tr>\n",
       "      <th>0</th>\n",
       "      <td>6317637</td>\n",
       "      <td>Le Petit Souffle</td>\n",
       "      <td>162</td>\n",
       "      <td>Makati City</td>\n",
       "      <td>Third Floor, Century City Mall, Kalayaan Avenu...</td>\n",
       "      <td>Century City Mall, Poblacion, Makati City</td>\n",
       "      <td>Century City Mall, Poblacion, Makati City, Mak...</td>\n",
       "      <td>121.027535</td>\n",
       "      <td>14.565443</td>\n",
       "      <td>French, Japanese, Desserts</td>\n",
       "      <td>...</td>\n",
       "      <td>Botswana Pula(P)</td>\n",
       "      <td>Yes</td>\n",
       "      <td>No</td>\n",
       "      <td>No</td>\n",
       "      <td>No</td>\n",
       "      <td>3</td>\n",
       "      <td>4.8</td>\n",
       "      <td>Dark Green</td>\n",
       "      <td>Excellent</td>\n",
       "      <td>314</td>\n",
       "    </tr>\n",
       "    <tr>\n",
       "      <th>1</th>\n",
       "      <td>6304287</td>\n",
       "      <td>Izakaya Kikufuji</td>\n",
       "      <td>162</td>\n",
       "      <td>Makati City</td>\n",
       "      <td>Little Tokyo, 2277 Chino Roces Avenue, Legaspi...</td>\n",
       "      <td>Little Tokyo, Legaspi Village, Makati City</td>\n",
       "      <td>Little Tokyo, Legaspi Village, Makati City, Ma...</td>\n",
       "      <td>121.014101</td>\n",
       "      <td>14.553708</td>\n",
       "      <td>Japanese</td>\n",
       "      <td>...</td>\n",
       "      <td>Botswana Pula(P)</td>\n",
       "      <td>Yes</td>\n",
       "      <td>No</td>\n",
       "      <td>No</td>\n",
       "      <td>No</td>\n",
       "      <td>3</td>\n",
       "      <td>4.5</td>\n",
       "      <td>Dark Green</td>\n",
       "      <td>Excellent</td>\n",
       "      <td>591</td>\n",
       "    </tr>\n",
       "    <tr>\n",
       "      <th>2</th>\n",
       "      <td>6300002</td>\n",
       "      <td>Heat - Edsa Shangri-La</td>\n",
       "      <td>162</td>\n",
       "      <td>Mandaluyong City</td>\n",
       "      <td>Edsa Shangri-La, 1 Garden Way, Ortigas, Mandal...</td>\n",
       "      <td>Edsa Shangri-La, Ortigas, Mandaluyong City</td>\n",
       "      <td>Edsa Shangri-La, Ortigas, Mandaluyong City, Ma...</td>\n",
       "      <td>121.056831</td>\n",
       "      <td>14.581404</td>\n",
       "      <td>Seafood, Asian, Filipino, Indian</td>\n",
       "      <td>...</td>\n",
       "      <td>Botswana Pula(P)</td>\n",
       "      <td>Yes</td>\n",
       "      <td>No</td>\n",
       "      <td>No</td>\n",
       "      <td>No</td>\n",
       "      <td>4</td>\n",
       "      <td>4.4</td>\n",
       "      <td>Green</td>\n",
       "      <td>Very Good</td>\n",
       "      <td>270</td>\n",
       "    </tr>\n",
       "    <tr>\n",
       "      <th>3</th>\n",
       "      <td>6318506</td>\n",
       "      <td>Ooma</td>\n",
       "      <td>162</td>\n",
       "      <td>Mandaluyong City</td>\n",
       "      <td>Third Floor, Mega Fashion Hall, SM Megamall, O...</td>\n",
       "      <td>SM Megamall, Ortigas, Mandaluyong City</td>\n",
       "      <td>SM Megamall, Ortigas, Mandaluyong City, Mandal...</td>\n",
       "      <td>121.056475</td>\n",
       "      <td>14.585318</td>\n",
       "      <td>Japanese, Sushi</td>\n",
       "      <td>...</td>\n",
       "      <td>Botswana Pula(P)</td>\n",
       "      <td>No</td>\n",
       "      <td>No</td>\n",
       "      <td>No</td>\n",
       "      <td>No</td>\n",
       "      <td>4</td>\n",
       "      <td>4.9</td>\n",
       "      <td>Dark Green</td>\n",
       "      <td>Excellent</td>\n",
       "      <td>365</td>\n",
       "    </tr>\n",
       "    <tr>\n",
       "      <th>4</th>\n",
       "      <td>6314302</td>\n",
       "      <td>Sambo Kojin</td>\n",
       "      <td>162</td>\n",
       "      <td>Mandaluyong City</td>\n",
       "      <td>Third Floor, Mega Atrium, SM Megamall, Ortigas...</td>\n",
       "      <td>SM Megamall, Ortigas, Mandaluyong City</td>\n",
       "      <td>SM Megamall, Ortigas, Mandaluyong City, Mandal...</td>\n",
       "      <td>121.057508</td>\n",
       "      <td>14.584450</td>\n",
       "      <td>Japanese, Korean</td>\n",
       "      <td>...</td>\n",
       "      <td>Botswana Pula(P)</td>\n",
       "      <td>Yes</td>\n",
       "      <td>No</td>\n",
       "      <td>No</td>\n",
       "      <td>No</td>\n",
       "      <td>4</td>\n",
       "      <td>4.8</td>\n",
       "      <td>Dark Green</td>\n",
       "      <td>Excellent</td>\n",
       "      <td>229</td>\n",
       "    </tr>\n",
       "  </tbody>\n",
       "</table>\n",
       "<p>5 rows × 21 columns</p>\n",
       "</div>"
      ],
      "text/plain": [
       "   Restaurant ID         Restaurant Name  Country Code              City  \\\n",
       "0        6317637        Le Petit Souffle           162       Makati City   \n",
       "1        6304287        Izakaya Kikufuji           162       Makati City   \n",
       "2        6300002  Heat - Edsa Shangri-La           162  Mandaluyong City   \n",
       "3        6318506                    Ooma           162  Mandaluyong City   \n",
       "4        6314302             Sambo Kojin           162  Mandaluyong City   \n",
       "\n",
       "                                             Address  \\\n",
       "0  Third Floor, Century City Mall, Kalayaan Avenu...   \n",
       "1  Little Tokyo, 2277 Chino Roces Avenue, Legaspi...   \n",
       "2  Edsa Shangri-La, 1 Garden Way, Ortigas, Mandal...   \n",
       "3  Third Floor, Mega Fashion Hall, SM Megamall, O...   \n",
       "4  Third Floor, Mega Atrium, SM Megamall, Ortigas...   \n",
       "\n",
       "                                     Locality  \\\n",
       "0   Century City Mall, Poblacion, Makati City   \n",
       "1  Little Tokyo, Legaspi Village, Makati City   \n",
       "2  Edsa Shangri-La, Ortigas, Mandaluyong City   \n",
       "3      SM Megamall, Ortigas, Mandaluyong City   \n",
       "4      SM Megamall, Ortigas, Mandaluyong City   \n",
       "\n",
       "                                    Locality Verbose   Longitude   Latitude  \\\n",
       "0  Century City Mall, Poblacion, Makati City, Mak...  121.027535  14.565443   \n",
       "1  Little Tokyo, Legaspi Village, Makati City, Ma...  121.014101  14.553708   \n",
       "2  Edsa Shangri-La, Ortigas, Mandaluyong City, Ma...  121.056831  14.581404   \n",
       "3  SM Megamall, Ortigas, Mandaluyong City, Mandal...  121.056475  14.585318   \n",
       "4  SM Megamall, Ortigas, Mandaluyong City, Mandal...  121.057508  14.584450   \n",
       "\n",
       "                           Cuisines  ...          Currency Has Table booking  \\\n",
       "0        French, Japanese, Desserts  ...  Botswana Pula(P)               Yes   \n",
       "1                          Japanese  ...  Botswana Pula(P)               Yes   \n",
       "2  Seafood, Asian, Filipino, Indian  ...  Botswana Pula(P)               Yes   \n",
       "3                   Japanese, Sushi  ...  Botswana Pula(P)                No   \n",
       "4                  Japanese, Korean  ...  Botswana Pula(P)               Yes   \n",
       "\n",
       "  Has Online delivery Is delivering now Switch to order menu Price range  \\\n",
       "0                  No                No                   No           3   \n",
       "1                  No                No                   No           3   \n",
       "2                  No                No                   No           4   \n",
       "3                  No                No                   No           4   \n",
       "4                  No                No                   No           4   \n",
       "\n",
       "   Aggregate rating  Rating color Rating text Votes  \n",
       "0               4.8    Dark Green   Excellent   314  \n",
       "1               4.5    Dark Green   Excellent   591  \n",
       "2               4.4         Green   Very Good   270  \n",
       "3               4.9    Dark Green   Excellent   365  \n",
       "4               4.8    Dark Green   Excellent   229  \n",
       "\n",
       "[5 rows x 21 columns]"
      ]
     },
     "execution_count": 3,
     "metadata": {},
     "output_type": "execute_result"
    }
   ],
   "source": [
    "df = Restaurant_Data\n",
    "print(df.shape)\n",
    "print(df.columns)\n",
    "df.head()"
   ]
  },
  {
   "cell_type": "markdown",
   "id": "459a058a-485a-437a-81a1-37bd15bdf74d",
   "metadata": {},
   "source": [
    "<font size=\"8\">Level-1<font/>\n",
    "\n",
    "<font size=\"6\">TASK-1: Top Cuisines</font> \n",
    "\n",
    "<font size=\"4\">(1) Determine the top three most common cuisines in the dataset.</font>"
   ]
  },
  {
   "cell_type": "code",
   "execution_count": 4,
   "id": "d851e10a-4951-454b-9202-5b8734e912c7",
   "metadata": {},
   "outputs": [
    {
     "name": "stdout",
     "output_type": "stream",
     "text": [
      "0             French, Japanese, Desserts\n",
      "1                               Japanese\n",
      "2       Seafood, Asian, Filipino, Indian\n",
      "3                        Japanese, Sushi\n",
      "4                       Japanese, Korean\n",
      "                      ...               \n",
      "9546                             Turkish\n",
      "9547     World Cuisine, Patisserie, Cafe\n",
      "9548              Italian, World Cuisine\n",
      "9549                     Restaurant Cafe\n",
      "9550                                Cafe\n",
      "Name: Cuisines, Length: 9551, dtype: object\n"
     ]
    }
   ],
   "source": [
    "print (df['Cuisines'])"
   ]
  },
  {
   "cell_type": "code",
   "execution_count": 5,
   "id": "a4ddbfa5-db7a-475b-9d88-5ae0559fee3c",
   "metadata": {
    "scrolled": true
   },
   "outputs": [
    {
     "name": "stdout",
     "output_type": "stream",
     "text": [
      "Top three cuisines are :  Cuisines\n",
      "North Indian    2992\n",
      " Chinese        1880\n",
      " Fast Food      1314\n",
      "Name: count, dtype: int64\n"
     ]
    }
   ],
   "source": [
    "Total_Cuisines = df['Cuisines'].str.split(',').explode('Cuisines').value_counts()\n",
    "\n",
    "top_cuisines = Total_Cuisines.head(3)\n",
    "print('Top three cuisines are : ', top_cuisines)\n"
   ]
  },
  {
   "cell_type": "code",
   "execution_count": 6,
   "id": "866a8ec6-5dd5-4e67-995e-f59df3f30139",
   "metadata": {},
   "outputs": [
    {
     "data": {
      "image/png": "[encoded data removed]",
      "text/plain": [
       "<Figure size 800x500 with 1 Axes>"
      ]
     },
     "metadata": {},
     "output_type": "display_data"
    }
   ],
   "source": [
    "colours = ('blue', 'red', 'orange')\n",
    "top_cuisines = top_cuisines.sort_values(ascending=False)\n",
    "fig, ax = plt.subplots(figsize=(8,5))\n",
    "ax = sns.barplot(x = top_cuisines.index, y = top_cuisines.values)\n",
    "for bars in ax.containers:\n",
    "    ax.bar_label(bars)\n",
    "plt.title('Top-3 Common Cuisines')\n",
    "plt.savefig('three')\n",
    "plt.show()\n",
    "\n"
   ]
  },
  {
   "cell_type": "markdown",
   "id": "eb7ef8e1-dcaa-4a0e-b4cf-8e7022fca764",
   "metadata": {},
   "source": [
    "<font size=\"4\">(2) Calculate the percentage of restaurants that serve each of the top cuisines.</font>"
   ]
  },
  {
   "cell_type": "code",
   "execution_count": 7,
   "id": "67e33cb6-8fcd-4f9f-bc9c-3ae4b845e247",
   "metadata": {},
   "outputs": [
    {
     "name": "stdout",
     "output_type": "stream",
     "text": [
      "Percentage of restaurants for top-3 cuisines\n"
     ]
    },
    {
     "data": {
      "text/plain": [
       "Cuisines\n",
       "North Indian    31.326563\n",
       " Chinese        19.683803\n",
       " Fast Food      13.757722\n",
       "Name: count, dtype: float64"
      ]
     },
     "execution_count": 7,
     "metadata": {},
     "output_type": "execute_result"
    }
   ],
   "source": [
    "total_restaurants = len(df)\n",
    "percentage_per_cuisine = (top_cuisines / total_restaurants)*100\n",
    "print('Percentage of restaurants for top-3 cuisines')\n",
    "percentage_per_cuisine"
   ]
  },
  {
   "cell_type": "code",
   "execution_count": 8,
   "id": "49474b86-f51c-4a44-8a38-1564bc0e9b04",
   "metadata": {},
   "outputs": [
    {
     "data": {
      "image/png": "[encoded data removed]",
      "text/plain": [
       "<Figure size 640x480 with 1 Axes>"
      ]
     },
     "metadata": {},
     "output_type": "display_data"
    }
   ],
   "source": [
    "plt.bar(percentage_per_cuisine.index, percentage_per_cuisine.values, width = 0.8)\n",
    "plt.xlabel('Cuisine Name')\n",
    "plt.ylabel('Percentage')\n",
    "plt.title('Percentage for top-3 cuisines')\n",
    "plt.savefig('Percentage')\n",
    "plt.show()"
   ]
  },
  {
   "cell_type": "markdown",
   "id": "f52ffd50-d1a3-45a9-89ec-d542cd25867f",
   "metadata": {},
   "source": [
    "<font size=\"6\">Task-2: City Analysis</font>\n",
    "\n",
    "<font size=\"4\">(1) City with the highest number of restaurants in the dataset</font>"
   ]
  },
  {
   "cell_type": "code",
   "execution_count": 9,
   "id": "8894a081-ffbc-4f69-8f1e-fc2b763837a8",
   "metadata": {},
   "outputs": [
    {
     "name": "stdout",
     "output_type": "stream",
     "text": [
      "City with the Highest number of Restaurants : New Delhi\n",
      "City\n",
      "New Delhi    5473\n",
      "Name: count, dtype: int64\n"
     ]
    }
   ],
   "source": [
    "Total_city = df['City'].value_counts()\n",
    "restaurants = Total_city.head(1)\n",
    "print('City with the Highest number of Restaurants :', Total_city.idxmax())\n",
    "print(restaurants)\n"
   ]
  },
  {
   "cell_type": "markdown",
   "id": "bbc4cb26-827c-462a-a179-8ee2be11bb04",
   "metadata": {},
   "source": [
    "<font size=\"4\">(2) Average rating for restaurants in each City</font>"
   ]
  },
  {
   "cell_type": "code",
   "execution_count": 10,
   "id": "53cff9eb-9b52-4963-913a-985d19df596a",
   "metadata": {},
   "outputs": [
    {
     "name": "stdout",
     "output_type": "stream",
     "text": [
      "The Average rating for Restaurants in each City: City\n",
      "Abu Dhabi          4.300000\n",
      "Agra               3.965000\n",
      "Ahmedabad          4.161905\n",
      "Albany             3.555000\n",
      "Allahabad          3.395000\n",
      "                     ...   \n",
      "Weirton            3.900000\n",
      "Wellington City    4.250000\n",
      "Winchester Bay     3.200000\n",
      "Yorkton            3.300000\n",
      "��stanbul          4.292857\n",
      "Name: Aggregate rating, Length: 141, dtype: float64\n"
     ]
    }
   ],
   "source": [
    "Avg_rating_by_city = df.groupby('City')['Aggregate rating'].mean()\n",
    "print('The Average rating for Restaurants in each City:',Avg_rating_by_city)"
   ]
  },
  {
   "cell_type": "markdown",
   "id": "8f3f0aa3-16bd-4eca-9676-013903a6b436",
   "metadata": {},
   "source": [
    "<font size=\"4\">(3) City with the highest average rating</font>"
   ]
  },
  {
   "cell_type": "code",
   "execution_count": 20,
   "id": "8797ddb6-6e16-4e85-800c-b73d9e3d66bb",
   "metadata": {},
   "outputs": [
    {
     "name": "stdout",
     "output_type": "stream",
     "text": [
      "City with Highest Avg Rating : Inner City , Rating = 4.9\n"
     ]
    },
    {
     "data": {
      "text/html": [
       "<div>\n",
       "<style scoped>\n",
       "    .dataframe tbody tr th:only-of-type {\n",
       "        vertical-align: middle;\n",
       "    }\n",
       "\n",
       "    .dataframe tbody tr th {\n",
       "        vertical-align: top;\n",
       "    }\n",
       "\n",
       "    .dataframe thead th {\n",
       "        text-align: right;\n",
       "    }\n",
       "</style>\n",
       "<table border=\"1\" class=\"dataframe\">\n",
       "  <thead>\n",
       "    <tr style=\"text-align: right;\">\n",
       "      <th></th>\n",
       "      <th>Restaurant ID</th>\n",
       "      <th>Restaurant Name</th>\n",
       "      <th>Country Code</th>\n",
       "      <th>City</th>\n",
       "      <th>Address</th>\n",
       "      <th>Locality</th>\n",
       "      <th>Locality Verbose</th>\n",
       "      <th>Longitude</th>\n",
       "      <th>Latitude</th>\n",
       "      <th>Cuisines</th>\n",
       "      <th>...</th>\n",
       "      <th>Currency</th>\n",
       "      <th>Has Table booking</th>\n",
       "      <th>Has Online delivery</th>\n",
       "      <th>Is delivering now</th>\n",
       "      <th>Switch to order menu</th>\n",
       "      <th>Price range</th>\n",
       "      <th>Aggregate rating</th>\n",
       "      <th>Rating color</th>\n",
       "      <th>Rating text</th>\n",
       "      <th>Votes</th>\n",
       "    </tr>\n",
       "  </thead>\n",
       "  <tbody>\n",
       "    <tr>\n",
       "      <th>0</th>\n",
       "      <td>6317637</td>\n",
       "      <td>Le Petit Souffle</td>\n",
       "      <td>162</td>\n",
       "      <td>Makati City</td>\n",
       "      <td>Third Floor, Century City Mall, Kalayaan Avenu...</td>\n",
       "      <td>Century City Mall, Poblacion, Makati City</td>\n",
       "      <td>Century City Mall, Poblacion, Makati City, Mak...</td>\n",
       "      <td>121.027535</td>\n",
       "      <td>14.565443</td>\n",
       "      <td>French, Japanese, Desserts</td>\n",
       "      <td>...</td>\n",
       "      <td>Botswana Pula(P)</td>\n",
       "      <td>Yes</td>\n",
       "      <td>No</td>\n",
       "      <td>No</td>\n",
       "      <td>No</td>\n",
       "      <td>3</td>\n",
       "      <td>4.8</td>\n",
       "      <td>Dark Green</td>\n",
       "      <td>Excellent</td>\n",
       "      <td>314</td>\n",
       "    </tr>\n",
       "    <tr>\n",
       "      <th>1</th>\n",
       "      <td>6304287</td>\n",
       "      <td>Izakaya Kikufuji</td>\n",
       "      <td>162</td>\n",
       "      <td>Makati City</td>\n",
       "      <td>Little Tokyo, 2277 Chino Roces Avenue, Legaspi...</td>\n",
       "      <td>Little Tokyo, Legaspi Village, Makati City</td>\n",
       "      <td>Little Tokyo, Legaspi Village, Makati City, Ma...</td>\n",
       "      <td>121.014101</td>\n",
       "      <td>14.553708</td>\n",
       "      <td>Japanese</td>\n",
       "      <td>...</td>\n",
       "      <td>Botswana Pula(P)</td>\n",
       "      <td>Yes</td>\n",
       "      <td>No</td>\n",
       "      <td>No</td>\n",
       "      <td>No</td>\n",
       "      <td>3</td>\n",
       "      <td>4.5</td>\n",
       "      <td>Dark Green</td>\n",
       "      <td>Excellent</td>\n",
       "      <td>591</td>\n",
       "    </tr>\n",
       "    <tr>\n",
       "      <th>2</th>\n",
       "      <td>6300002</td>\n",
       "      <td>Heat - Edsa Shangri-La</td>\n",
       "      <td>162</td>\n",
       "      <td>Mandaluyong City</td>\n",
       "      <td>Edsa Shangri-La, 1 Garden Way, Ortigas, Mandal...</td>\n",
       "      <td>Edsa Shangri-La, Ortigas, Mandaluyong City</td>\n",
       "      <td>Edsa Shangri-La, Ortigas, Mandaluyong City, Ma...</td>\n",
       "      <td>121.056831</td>\n",
       "      <td>14.581404</td>\n",
       "      <td>Seafood, Asian, Filipino, Indian</td>\n",
       "      <td>...</td>\n",
       "      <td>Botswana Pula(P)</td>\n",
       "      <td>Yes</td>\n",
       "      <td>No</td>\n",
       "      <td>No</td>\n",
       "      <td>No</td>\n",
       "      <td>4</td>\n",
       "      <td>4.4</td>\n",
       "      <td>Green</td>\n",
       "      <td>Very Good</td>\n",
       "      <td>270</td>\n",
       "    </tr>\n",
       "    <tr>\n",
       "      <th>3</th>\n",
       "      <td>6318506</td>\n",
       "      <td>Ooma</td>\n",
       "      <td>162</td>\n",
       "      <td>Mandaluyong City</td>\n",
       "      <td>Third Floor, Mega Fashion Hall, SM Megamall, O...</td>\n",
       "      <td>SM Megamall, Ortigas, Mandaluyong City</td>\n",
       "      <td>SM Megamall, Ortigas, Mandaluyong City, Mandal...</td>\n",
       "      <td>121.056475</td>\n",
       "      <td>14.585318</td>\n",
       "      <td>Japanese, Sushi</td>\n",
       "      <td>...</td>\n",
       "      <td>Botswana Pula(P)</td>\n",
       "      <td>No</td>\n",
       "      <td>No</td>\n",
       "      <td>No</td>\n",
       "      <td>No</td>\n",
       "      <td>4</td>\n",
       "      <td>4.9</td>\n",
       "      <td>Dark Green</td>\n",
       "      <td>Excellent</td>\n",
       "      <td>365</td>\n",
       "    </tr>\n",
       "    <tr>\n",
       "      <th>4</th>\n",
       "      <td>6314302</td>\n",
       "      <td>Sambo Kojin</td>\n",
       "      <td>162</td>\n",
       "      <td>Mandaluyong City</td>\n",
       "      <td>Third Floor, Mega Atrium, SM Megamall, Ortigas...</td>\n",
       "      <td>SM Megamall, Ortigas, Mandaluyong City</td>\n",
       "      <td>SM Megamall, Ortigas, Mandaluyong City, Mandal...</td>\n",
       "      <td>121.057508</td>\n",
       "      <td>14.584450</td>\n",
       "      <td>Japanese, Korean</td>\n",
       "      <td>...</td>\n",
       "      <td>Botswana Pula(P)</td>\n",
       "      <td>Yes</td>\n",
       "      <td>No</td>\n",
       "      <td>No</td>\n",
       "      <td>No</td>\n",
       "      <td>4</td>\n",
       "      <td>4.8</td>\n",
       "      <td>Dark Green</td>\n",
       "      <td>Excellent</td>\n",
       "      <td>229</td>\n",
       "    </tr>\n",
       "  </tbody>\n",
       "</table>\n",
       "<p>5 rows × 21 columns</p>\n",
       "</div>"
      ],
      "text/plain": [
       "   Restaurant ID         Restaurant Name  Country Code              City  \\\n",
       "0        6317637        Le Petit Souffle           162       Makati City   \n",
       "1        6304287        Izakaya Kikufuji           162       Makati City   \n",
       "2        6300002  Heat - Edsa Shangri-La           162  Mandaluyong City   \n",
       "3        6318506                    Ooma           162  Mandaluyong City   \n",
       "4        6314302             Sambo Kojin           162  Mandaluyong City   \n",
       "\n",
       "                                             Address  \\\n",
       "0  Third Floor, Century City Mall, Kalayaan Avenu...   \n",
       "1  Little Tokyo, 2277 Chino Roces Avenue, Legaspi...   \n",
       "2  Edsa Shangri-La, 1 Garden Way, Ortigas, Mandal...   \n",
       "3  Third Floor, Mega Fashion Hall, SM Megamall, O...   \n",
       "4  Third Floor, Mega Atrium, SM Megamall, Ortigas...   \n",
       "\n",
       "                                     Locality  \\\n",
       "0   Century City Mall, Poblacion, Makati City   \n",
       "1  Little Tokyo, Legaspi Village, Makati City   \n",
       "2  Edsa Shangri-La, Ortigas, Mandaluyong City   \n",
       "3      SM Megamall, Ortigas, Mandaluyong City   \n",
       "4      SM Megamall, Ortigas, Mandaluyong City   \n",
       "\n",
       "                                    Locality Verbose   Longitude   Latitude  \\\n",
       "0  Century City Mall, Poblacion, Makati City, Mak...  121.027535  14.565443   \n",
       "1  Little Tokyo, Legaspi Village, Makati City, Ma...  121.014101  14.553708   \n",
       "2  Edsa Shangri-La, Ortigas, Mandaluyong City, Ma...  121.056831  14.581404   \n",
       "3  SM Megamall, Ortigas, Mandaluyong City, Mandal...  121.056475  14.585318   \n",
       "4  SM Megamall, Ortigas, Mandaluyong City, Mandal...  121.057508  14.584450   \n",
       "\n",
       "                           Cuisines  ...          Currency Has Table booking  \\\n",
       "0        French, Japanese, Desserts  ...  Botswana Pula(P)               Yes   \n",
       "1                          Japanese  ...  Botswana Pula(P)               Yes   \n",
       "2  Seafood, Asian, Filipino, Indian  ...  Botswana Pula(P)               Yes   \n",
       "3                   Japanese, Sushi  ...  Botswana Pula(P)                No   \n",
       "4                  Japanese, Korean  ...  Botswana Pula(P)               Yes   \n",
       "\n",
       "  Has Online delivery Is delivering now Switch to order menu Price range  \\\n",
       "0                  No                No                   No           3   \n",
       "1                  No                No                   No           3   \n",
       "2                  No                No                   No           4   \n",
       "3                  No                No                   No           4   \n",
       "4                  No                No                   No           4   \n",
       "\n",
       "   Aggregate rating  Rating color Rating text Votes  \n",
       "0               4.8    Dark Green   Excellent   314  \n",
       "1               4.5    Dark Green   Excellent   591  \n",
       "2               4.4         Green   Very Good   270  \n",
       "3               4.9    Dark Green   Excellent   365  \n",
       "4               4.8    Dark Green   Excellent   229  \n",
       "\n",
       "[5 rows x 21 columns]"
      ]
     },
     "execution_count": 20,
     "metadata": {},
     "output_type": "execute_result"
    }
   ],
   "source": [
    "Top_city = Avg_rating_by_city.idxmax()\n",
    "value = Avg_rating_by_city.max()\n",
    "print('City with Highest Avg Rating :', Top_city, ',', 'Rating =',value)\n",
    "df.head()"
   ]
  },
  {
   "cell_type": "markdown",
   "id": "b305cc20-c937-412e-b929-309e888282cd",
   "metadata": {},
   "source": [
    "<font size=\"6\">TASK-3: Price Range Distribution</font>"
   ]
  },
  {
   "cell_type": "markdown",
   "id": "025b55d0-b772-47a1-96b4-bd194582df2e",
   "metadata": {},
   "source": [
    "<font size=\"4\">(1) Create a histogram or bar chart to visualize the distribution of price ranges among the restaurants</font>"
   ]
  },
  {
   "cell_type": "code",
   "execution_count": 33,
   "id": "6712e713-278d-4ccd-a119-562c64026779",
   "metadata": {},
   "outputs": [
    {
     "data": {
      "image/png": "[encoded data removed]",
      "text/plain": [
       "<Figure size 640x480 with 1 Axes>"
      ]
     },
     "metadata": {},
     "output_type": "display_data"
    }
   ],
   "source": [
    "df.hist(column = 'Price range')\n",
    "plt.xlabel('Price range')\n",
    "plt.ylabel('Total')\n",
    "plt.title('Distribution of Price Ranges')\n",
    "plt.savefig('Distriburion')\n",
    "plt.show()"
   ]
  },
  {
   "cell_type": "markdown",
   "id": "4a23cc54-8dc9-49e1-a690-936d78b6d7d5",
   "metadata": {},
   "source": [
    "<font size=\"4\">(2) Calculate the percentage of restaurants in each price range category</font>"
   ]
  },
  {
   "cell_type": "code",
   "execution_count": 35,
   "id": "532dc007-e24a-4c62-b7be-d3c0ebe6a64c",
   "metadata": {},
   "outputs": [
    {
     "name": "stdout",
     "output_type": "stream",
     "text": [
      "The Percentage of Restaurants in each Price Range Category are :              count_x  count_y\n",
      "Price range                  \n",
      "1               4444    46.53\n",
      "2               3113    32.59\n",
      "3               1408    14.74\n",
      "4                586     6.14\n"
     ]
    }
   ],
   "source": [
    "Total_Price_range = df['Price range'].value_counts()\n",
    "total_restaurants = len(df)\n",
    "percentage = round ((Total_Price_range/total_restaurants)*100, 2)\n",
    "percentages = pd.merge(Total_Price_range, percentage, on = 'Price range')\n",
    "print('The Percentage of Restaurants in each Price Range Category are :',percentages)\n"
   ]
  },
  {
   "cell_type": "code",
   "execution_count": 36,
   "id": "92a85d3a-080f-458c-8983-8537f4376885",
   "metadata": {},
   "outputs": [
    {
     "data": {
      "image/png": "[encoded data removed]",
      "text/plain": [
       "<Figure size 640x480 with 1 Axes>"
      ]
     },
     "metadata": {},
     "output_type": "display_data"
    }
   ],
   "source": [
    "plt.pie(percentage, labels= percentage.index, autopct = '%1.1f%%', colors = ['c', 'b','skyblue','lightgreen'])\n",
    "plt.title('Price Range Percentage')\n",
    "plt.savefig('Price Range')\n",
    "plt.show()"
   ]
  },
  {
   "cell_type": "markdown",
   "id": "ce92baf1-dc51-4809-b953-ed691e2a4b64",
   "metadata": {},
   "source": [
    " <font size=\"6\">TASK-4: Online Delivery</font> "
   ]
  },
  {
   "cell_type": "markdown",
   "id": "23315bd0-62dd-4d4f-b214-c5928ac0d424",
   "metadata": {},
   "source": [
    "<font size=\"4\">(1) Determine the percentage of restaurants that offer online delivery</font>"
   ]
  },
  {
   "cell_type": "code",
   "execution_count": 39,
   "id": "a3fe0f4c-8ea3-4321-bd13-fd52c51dae6c",
   "metadata": {},
   "outputs": [
    {
     "name": "stdout",
     "output_type": "stream",
     "text": [
      "Restaurants with Online Delivery : 2451\n"
     ]
    }
   ],
   "source": [
    "online_delivery = df['Has Online delivery'].value_counts().get('Yes', 0)\n",
    "print('Restaurants with Online Delivery :',online_delivery)"
   ]
  },
  {
   "cell_type": "code",
   "execution_count": 40,
   "id": "a332581a-b618-400b-89b4-f17b135442ce",
   "metadata": {},
   "outputs": [
    {
     "name": "stdout",
     "output_type": "stream",
     "text": [
      "Restaurants with No Online Delivery: 7100\n"
     ]
    }
   ],
   "source": [
    "No_OD = df['Has Online delivery'].value_counts().get('No', 0)\n",
    "print('Restaurants with No Online Delivery:', No_OD)"
   ]
  },
  {
   "cell_type": "code",
   "execution_count": 42,
   "id": "aba80007-c21f-40b3-bcca-1fe64b65c195",
   "metadata": {},
   "outputs": [
    {
     "name": "stdout",
     "output_type": "stream",
     "text": [
      "Percentage of Online Delivery: 25.66\n"
     ]
    }
   ],
   "source": [
    "Row_count = len(df)\n",
    "percentage_of_online_delivery = round((online_delivery/Row_count)*100, 2)\n",
    "print('Percentage of Online Delivery:', percentage_of_online_delivery)"
   ]
  },
  {
   "cell_type": "code",
   "execution_count": 48,
   "id": "839c6b1d-96f2-4225-8864-21eaf71f499c",
   "metadata": {},
   "outputs": [
    {
     "name": "stdout",
     "output_type": "stream",
     "text": [
      "Percentage of No Online Delivery: 74.34\n"
     ]
    }
   ],
   "source": [
    "percentage_of_No_OD = round((No_OD/Row_count)*100, 2)\n",
    "print('Percentage of No Online Delivery:',percentage_of_No_OD)"
   ]
  },
  {
   "cell_type": "markdown",
   "id": "6c8d78b4-8a3d-486a-97b6-509a2ce3f5f3",
   "metadata": {},
   "source": [
    "<font size=\"4\">(2) Compare the Average ratings of Restaurants with and Without Online Delivery</font>"
   ]
  },
  {
   "cell_type": "code",
   "execution_count": 38,
   "id": "2372875a-255f-48d7-8315-1708d09c3a2c",
   "metadata": {},
   "outputs": [
    {
     "name": "stdout",
     "output_type": "stream",
     "text": [
      "Average Rating with Online Delivery: 3.25\n"
     ]
    }
   ],
   "source": [
    "Avg_rating_OD = round(df[df['Has Online delivery'] == 'Yes']['Aggregate rating'].mean(),2)\n",
    "print('Average Rating with Online Delivery:', Avg_rating_OD)"
   ]
  },
  {
   "cell_type": "code",
   "execution_count": 39,
   "id": "e236632f-7ee7-48d4-a546-e1f6d81e64af",
   "metadata": {},
   "outputs": [
    {
     "name": "stdout",
     "output_type": "stream",
     "text": [
      "Average Rating with No Online Delivery: 2.47\n"
     ]
    }
   ],
   "source": [
    "Avg_rating_No_OD = round(df[df['Has Online delivery'] == 'No']['Aggregate rating'].mean(),2)\n",
    "print('Average Rating with No Online Delivery:', Avg_rating_No_OD)"
   ]
  },
  {
   "cell_type": "code",
   "execution_count": 40,
   "id": "124cadb6-7086-492b-a951-67027baee1e2",
   "metadata": {},
   "outputs": [
    {
     "data": {
      "image/png": "[encoded data removed]",
      "text/plain": [
       "<Figure size 640x480 with 1 Axes>"
      ]
     },
     "metadata": {},
     "output_type": "display_data"
    }
   ],
   "source": [
    "labels = ['Yes','No']\n",
    "Average_Rating = [Avg_rating_OD, Avg_rating_No_OD]\n",
    "plt.bar(labels, Average_Rating)\n",
    "plt.xlabel('Average Rating')\n",
    "plt.ylabel('Online Delivery')\n",
    "plt.title('Comparison of Average Ratings of Online Delivery')\n",
    "plt.savefig('Avg Rating')\n",
    "plt.show()"
   ]
  },
  {
   "cell_type": "code",
   "execution_count": null,
   "id": "f86b3b05-4bb1-4ed7-b5c6-34cbc524e629",
   "metadata": {},
   "outputs": [],
   "source": []
  }
 ],
 "metadata": {
  "kernelspec": {
   "display_name": "Python 3 (ipykernel)",
   "language": "python",
   "name": "python3"
  },
  "language_info": {
   "codemirror_mode": {
    "name": "ipython",
    "version": 3
   },
   "file_extension": ".py",
   "mimetype": "text/x-python",
   "name": "python",
   "nbconvert_exporter": "python",
   "pygments_lexer": "ipython3",
   "version": "3.11.7"
  }
 },
 "nbformat": 4,
 "nbformat_minor": 5
}
